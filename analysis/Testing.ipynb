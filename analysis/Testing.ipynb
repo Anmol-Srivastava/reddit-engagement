{
 "cells": [
  {
   "cell_type": "code",
   "execution_count": 3,
   "metadata": {},
   "outputs": [
    {
     "name": "stdout",
     "output_type": "stream",
     "text": [
      "1431\n"
     ]
    }
   ],
   "source": [
    "import sqlite3\n",
    "conn = sqlite3.connect('../../reddit-engagement-files/activity.db')\n",
    "cursor = conn.cursor()\n",
    "cursor.execute('''SELECT * FROM activity;''')\n",
    "results = cursor.fetchall()\n",
    "print(len(results))"
   ]
  },
  {
   "cell_type": "code",
   "execution_count": 4,
   "metadata": {},
   "outputs": [
    {
     "data": {
      "text/plain": [
       "('l9c06q',\n",
       " 'Avergage people are just as greedy as rich people.',\n",
       " 'unpopularopinion',\n",
       " '01/31/2021 20:39:56',\n",
       " 'down')"
      ]
     },
     "execution_count": 4,
     "metadata": {},
     "output_type": "execute_result"
    }
   ],
   "source": [
    "results[0]"
   ]
  },
  {
   "cell_type": "code",
   "execution_count": 5,
   "metadata": {},
   "outputs": [
    {
     "data": {
      "text/plain": [
       "('ircgod',\n",
       " '19 families buy nearly 97 acres of land in Georgia to create a city safe for Black people',\n",
       " 'news',\n",
       " '01/31/2021 20:40:38',\n",
       " 'up')"
      ]
     },
     "execution_count": 5,
     "metadata": {},
     "output_type": "execute_result"
    }
   ],
   "source": [
    "results[-1]"
   ]
  },
  {
   "cell_type": "code",
   "execution_count": null,
   "metadata": {},
   "outputs": [],
   "source": [
    "# in fifteen minutes \"we have found the city of gold\" should be an upvote at 0 pos"
   ]
  }
 ],
 "metadata": {
  "kernelspec": {
   "display_name": "Python 3",
   "language": "python",
   "name": "python3"
  },
  "language_info": {
   "codemirror_mode": {
    "name": "ipython",
    "version": 3
   },
   "file_extension": ".py",
   "mimetype": "text/x-python",
   "name": "python",
   "nbconvert_exporter": "python",
   "pygments_lexer": "ipython3",
   "version": "3.7.6"
  }
 },
 "nbformat": 4,
 "nbformat_minor": 4
}
