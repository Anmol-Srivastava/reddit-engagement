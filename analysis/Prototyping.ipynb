{
 "cells": [
  {
   "cell_type": "markdown",
   "metadata": {},
   "source": [
    "# Scraper Checks"
   ]
  },
  {
   "cell_type": "code",
   "execution_count": 1,
   "metadata": {},
   "outputs": [
    {
     "name": "stdout",
     "output_type": "stream",
     "text": [
      "1548\n"
     ]
    }
   ],
   "source": [
    "import sqlite3\n",
    "conn = sqlite3.connect('../../reddit-engagement-files/activity.db')\n",
    "cursor = conn.cursor()\n",
    "cursor.execute('''SELECT * FROM activity;''')\n",
    "results = cursor.fetchall()\n",
    "print(len(results))"
   ]
  },
  {
   "cell_type": "markdown",
   "metadata": {},
   "source": [
    "# NLP For Binary Classification"
   ]
  },
  {
   "cell_type": "code",
   "execution_count": 4,
   "metadata": {},
   "outputs": [
    {
     "name": "stdout",
     "output_type": "stream",
     "text": [
      "1493\n"
     ]
    },
    {
     "data": {
      "text/html": [
       "<div>\n",
       "<style scoped>\n",
       "    .dataframe tbody tr th:only-of-type {\n",
       "        vertical-align: middle;\n",
       "    }\n",
       "\n",
       "    .dataframe tbody tr th {\n",
       "        vertical-align: top;\n",
       "    }\n",
       "\n",
       "    .dataframe thead th {\n",
       "        text-align: right;\n",
       "    }\n",
       "</style>\n",
       "<table border=\"1\" class=\"dataframe\">\n",
       "  <thead>\n",
       "    <tr style=\"text-align: right;\">\n",
       "      <th></th>\n",
       "      <th>id</th>\n",
       "      <th>title</th>\n",
       "      <th>subreddit</th>\n",
       "      <th>access_time</th>\n",
       "      <th>action</th>\n",
       "    </tr>\n",
       "  </thead>\n",
       "  <tbody>\n",
       "    <tr>\n",
       "      <th>0</th>\n",
       "      <td>l9c06q</td>\n",
       "      <td>Avergage people are just as greedy as rich peo...</td>\n",
       "      <td>unpopularopinion</td>\n",
       "      <td>01/31/2021 20:39:56</td>\n",
       "      <td>down</td>\n",
       "    </tr>\n",
       "    <tr>\n",
       "      <th>1</th>\n",
       "      <td>l9bayq</td>\n",
       "      <td>Obese people infuriate me.</td>\n",
       "      <td>TrueOffMyChest</td>\n",
       "      <td>01/31/2021 20:39:56</td>\n",
       "      <td>down</td>\n",
       "    </tr>\n",
       "    <tr>\n",
       "      <th>2</th>\n",
       "      <td>l90oq6</td>\n",
       "      <td>I am proud to do my part in paying forward our...</td>\n",
       "      <td>wallstreetbets</td>\n",
       "      <td>01/31/2021 20:39:56</td>\n",
       "      <td>down</td>\n",
       "    </tr>\n",
       "    <tr>\n",
       "      <th>3</th>\n",
       "      <td>l8xsfa</td>\n",
       "      <td>Cool, but why would they bother telling us?</td>\n",
       "      <td>wallstreetbets</td>\n",
       "      <td>01/31/2021 20:39:56</td>\n",
       "      <td>down</td>\n",
       "    </tr>\n",
       "    <tr>\n",
       "      <th>4</th>\n",
       "      <td>kzul59</td>\n",
       "      <td>There is absolutely no goddamn reason why you ...</td>\n",
       "      <td>unpopularopinion</td>\n",
       "      <td>01/31/2021 20:39:56</td>\n",
       "      <td>down</td>\n",
       "    </tr>\n",
       "    <tr>\n",
       "      <th>5</th>\n",
       "      <td>kwf3ub</td>\n",
       "      <td>Apple launches major new Racial Equity and Jus...</td>\n",
       "      <td>apple</td>\n",
       "      <td>01/31/2021 20:39:56</td>\n",
       "      <td>down</td>\n",
       "    </tr>\n",
       "    <tr>\n",
       "      <th>6</th>\n",
       "      <td>kurmrg</td>\n",
       "      <td>I wonder how many pros consider GAing pros?</td>\n",
       "      <td>CoDCompetitive</td>\n",
       "      <td>01/31/2021 20:39:56</td>\n",
       "      <td>down</td>\n",
       "    </tr>\n",
       "    <tr>\n",
       "      <th>7</th>\n",
       "      <td>ktf66r</td>\n",
       "      <td>Latinx is bullshit</td>\n",
       "      <td>TrueOffMyChest</td>\n",
       "      <td>01/31/2021 20:39:56</td>\n",
       "      <td>down</td>\n",
       "    </tr>\n",
       "    <tr>\n",
       "      <th>8</th>\n",
       "      <td>krk1c0</td>\n",
       "      <td>Why is it a taboo to criticize cultures that d...</td>\n",
       "      <td>TooAfraidToAsk</td>\n",
       "      <td>01/31/2021 20:39:56</td>\n",
       "      <td>down</td>\n",
       "    </tr>\n",
       "    <tr>\n",
       "      <th>9</th>\n",
       "      <td>krhja1</td>\n",
       "      <td>CMV: The white teen who said the n word on a S...</td>\n",
       "      <td>changemyview</td>\n",
       "      <td>01/31/2021 20:39:56</td>\n",
       "      <td>down</td>\n",
       "    </tr>\n",
       "  </tbody>\n",
       "</table>\n",
       "</div>"
      ],
      "text/plain": [
       "       id                                              title  \\\n",
       "0  l9c06q  Avergage people are just as greedy as rich peo...   \n",
       "1  l9bayq                         Obese people infuriate me.   \n",
       "2  l90oq6  I am proud to do my part in paying forward our...   \n",
       "3  l8xsfa        Cool, but why would they bother telling us?   \n",
       "4  kzul59  There is absolutely no goddamn reason why you ...   \n",
       "5  kwf3ub  Apple launches major new Racial Equity and Jus...   \n",
       "6  kurmrg        I wonder how many pros consider GAing pros?   \n",
       "7  ktf66r                                 Latinx is bullshit   \n",
       "8  krk1c0  Why is it a taboo to criticize cultures that d...   \n",
       "9  krhja1  CMV: The white teen who said the n word on a S...   \n",
       "\n",
       "          subreddit          access_time action  \n",
       "0  unpopularopinion  01/31/2021 20:39:56   down  \n",
       "1    TrueOffMyChest  01/31/2021 20:39:56   down  \n",
       "2    wallstreetbets  01/31/2021 20:39:56   down  \n",
       "3    wallstreetbets  01/31/2021 20:39:56   down  \n",
       "4  unpopularopinion  01/31/2021 20:39:56   down  \n",
       "5             apple  01/31/2021 20:39:56   down  \n",
       "6    CoDCompetitive  01/31/2021 20:39:56   down  \n",
       "7    TrueOffMyChest  01/31/2021 20:39:56   down  \n",
       "8    TooAfraidToAsk  01/31/2021 20:39:56   down  \n",
       "9      changemyview  01/31/2021 20:39:56   down  "
      ]
     },
     "execution_count": 4,
     "metadata": {},
     "output_type": "execute_result"
    }
   ],
   "source": [
    "import pandas as pd\n",
    "df = pd.read_sql_query('SELECT * FROM activity;', conn)\n",
    "print(len(df))\n",
    "df.head(n=10)"
   ]
  },
  {
   "cell_type": "code",
   "execution_count": 5,
   "metadata": {},
   "outputs": [
    {
     "data": {
      "text/html": [
       "<div>\n",
       "<style scoped>\n",
       "    .dataframe tbody tr th:only-of-type {\n",
       "        vertical-align: middle;\n",
       "    }\n",
       "\n",
       "    .dataframe tbody tr th {\n",
       "        vertical-align: top;\n",
       "    }\n",
       "\n",
       "    .dataframe thead th {\n",
       "        text-align: right;\n",
       "    }\n",
       "</style>\n",
       "<table border=\"1\" class=\"dataframe\">\n",
       "  <thead>\n",
       "    <tr style=\"text-align: right;\">\n",
       "      <th></th>\n",
       "      <th>id</th>\n",
       "      <th>title</th>\n",
       "      <th>subreddit</th>\n",
       "      <th>access_time</th>\n",
       "      <th>action</th>\n",
       "    </tr>\n",
       "  </thead>\n",
       "  <tbody>\n",
       "    <tr>\n",
       "      <th>1483</th>\n",
       "      <td>lb11an</td>\n",
       "      <td>I wish everyone to have such friend ^_-</td>\n",
       "      <td>wholesomememes</td>\n",
       "      <td>02/03/2021 06:00:05</td>\n",
       "      <td>up</td>\n",
       "    </tr>\n",
       "    <tr>\n",
       "      <th>1484</th>\n",
       "      <td>laynzf</td>\n",
       "      <td>The way Americans talk about \"The Founding Fat...</td>\n",
       "      <td>unpopularopinion</td>\n",
       "      <td>02/03/2021 06:00:05</td>\n",
       "      <td>up</td>\n",
       "    </tr>\n",
       "    <tr>\n",
       "      <th>1485</th>\n",
       "      <td>laz9r1</td>\n",
       "      <td>Democrat senators vow to legalise cannabis thi...</td>\n",
       "      <td>politics</td>\n",
       "      <td>02/03/2021 06:00:05</td>\n",
       "      <td>up</td>\n",
       "    </tr>\n",
       "    <tr>\n",
       "      <th>1486</th>\n",
       "      <td>lb22x0</td>\n",
       "      <td>[CDL] CDL Broadcast team for the 2021 season</td>\n",
       "      <td>CoDCompetitive</td>\n",
       "      <td>02/03/2021 06:00:05</td>\n",
       "      <td>up</td>\n",
       "    </tr>\n",
       "    <tr>\n",
       "      <th>1487</th>\n",
       "      <td>lbhi6l</td>\n",
       "      <td>Ah yes the stupidest GA ever even though I’m w...</td>\n",
       "      <td>CoDCompetitive</td>\n",
       "      <td>02/03/2021 07:00:06</td>\n",
       "      <td>up</td>\n",
       "    </tr>\n",
       "    <tr>\n",
       "      <th>1488</th>\n",
       "      <td>lb9dvw</td>\n",
       "      <td>Sea Levels Are Rising Faster Than Most Pessimi...</td>\n",
       "      <td>worldnews</td>\n",
       "      <td>02/03/2021 10:00:05</td>\n",
       "      <td>up</td>\n",
       "    </tr>\n",
       "    <tr>\n",
       "      <th>1489</th>\n",
       "      <td>lbagi9</td>\n",
       "      <td>When asked for an itemized bill the price magi...</td>\n",
       "      <td>mildlyinfuriating</td>\n",
       "      <td>02/03/2021 10:00:05</td>\n",
       "      <td>up</td>\n",
       "    </tr>\n",
       "    <tr>\n",
       "      <th>1490</th>\n",
       "      <td>lbghub</td>\n",
       "      <td>Love studying with my human</td>\n",
       "      <td>Eyebleach</td>\n",
       "      <td>02/03/2021 10:00:05</td>\n",
       "      <td>up</td>\n",
       "    </tr>\n",
       "    <tr>\n",
       "      <th>1491</th>\n",
       "      <td>lb5k67</td>\n",
       "      <td>Morgan Freeman on Black History Month and racism</td>\n",
       "      <td>ThatsInsane</td>\n",
       "      <td>02/03/2021 10:00:09</td>\n",
       "      <td>down</td>\n",
       "    </tr>\n",
       "    <tr>\n",
       "      <th>1492</th>\n",
       "      <td>lbdjz5</td>\n",
       "      <td>If Americans called out other countries for th...</td>\n",
       "      <td>unpopularopinion</td>\n",
       "      <td>02/03/2021 10:00:09</td>\n",
       "      <td>down</td>\n",
       "    </tr>\n",
       "  </tbody>\n",
       "</table>\n",
       "</div>"
      ],
      "text/plain": [
       "          id                                              title  \\\n",
       "1483  lb11an            I wish everyone to have such friend ^_-   \n",
       "1484  laynzf  The way Americans talk about \"The Founding Fat...   \n",
       "1485  laz9r1  Democrat senators vow to legalise cannabis thi...   \n",
       "1486  lb22x0       [CDL] CDL Broadcast team for the 2021 season   \n",
       "1487  lbhi6l  Ah yes the stupidest GA ever even though I’m w...   \n",
       "1488  lb9dvw  Sea Levels Are Rising Faster Than Most Pessimi...   \n",
       "1489  lbagi9  When asked for an itemized bill the price magi...   \n",
       "1490  lbghub                        Love studying with my human   \n",
       "1491  lb5k67   Morgan Freeman on Black History Month and racism   \n",
       "1492  lbdjz5  If Americans called out other countries for th...   \n",
       "\n",
       "              subreddit          access_time action  \n",
       "1483     wholesomememes  02/03/2021 06:00:05     up  \n",
       "1484   unpopularopinion  02/03/2021 06:00:05     up  \n",
       "1485           politics  02/03/2021 06:00:05     up  \n",
       "1486     CoDCompetitive  02/03/2021 06:00:05     up  \n",
       "1487     CoDCompetitive  02/03/2021 07:00:06     up  \n",
       "1488          worldnews  02/03/2021 10:00:05     up  \n",
       "1489  mildlyinfuriating  02/03/2021 10:00:05     up  \n",
       "1490          Eyebleach  02/03/2021 10:00:05     up  \n",
       "1491        ThatsInsane  02/03/2021 10:00:09   down  \n",
       "1492   unpopularopinion  02/03/2021 10:00:09   down  "
      ]
     },
     "execution_count": 5,
     "metadata": {},
     "output_type": "execute_result"
    }
   ],
   "source": [
    "df.tail(n=10)"
   ]
  },
  {
   "cell_type": "markdown",
   "metadata": {},
   "source": [
    "## Preprocessing"
   ]
  },
  {
   "cell_type": "code",
   "execution_count": 71,
   "metadata": {},
   "outputs": [],
   "source": [
    "import nltk\n",
    "from nltk.tokenize import RegexpTokenizer\n",
    "from nltk.stem import WordNetLemmatizer, PorterStemmer\n",
    "from nltk.corpus import stopwords\n",
    "import re"
   ]
  },
  {
   "cell_type": "code",
   "execution_count": 65,
   "metadata": {},
   "outputs": [],
   "source": [
    "def preprocess(text):\n",
    "    text = str(text)\n",
    "    text = text.lower()\n",
    "    text = re.sub(r'http\\S+', '', text) # remove urls\n",
    "    text = re.sub(r'[0-9]+', '', text) # remove numbers\n",
    "    # remove emojis\n",
    "    # remove stop words\n",
    "    # remove special characters\n",
    "    # expand contractions\n",
    "    # tokenize\n",
    "    \n",
    "    print(text)"
   ]
  },
  {
   "cell_type": "code",
   "execution_count": 68,
   "metadata": {},
   "outputs": [
    {
     "name": "stdout",
     "output_type": "stream",
     "text": [
      "catcat\n"
     ]
    }
   ],
   "source": [
    "preprocess('9cat0cat')"
   ]
  },
  {
   "cell_type": "code",
   "execution_count": null,
   "metadata": {},
   "outputs": [],
   "source": []
  },
  {
   "cell_type": "code",
   "execution_count": null,
   "metadata": {},
   "outputs": [],
   "source": [
    "\n",
    "    cleanr = re.compile('<.*?>')\n",
    "    cleantext = re.sub(cleanr, '', sentence)\n",
    "\n",
    "    tokenizer = RegexpTokenizer(r'\\w+')\n",
    "    tokens = tokenizer.tokenize(rem_num)  \n",
    "    filtered_words = [w for w in tokens if len(w) > 2 if not w in stopwords.words('english')]\n",
    "    stem_words=[stemmer.stem(w) for w in filtered_words]\n",
    "    lemma_words=[lemmatizer.lemmatize(w) for w in stem_words]\n",
    "    return \" \".join(filtered_words)"
   ]
  },
  {
   "cell_type": "markdown",
   "metadata": {},
   "source": [
    "class NLP_MODEL\n",
    "\n",
    "    preprocess_text()\n",
    "\n",
    "class SUB_NLP_MODEL\n",
    "\n",
    "    running_accuracies (with datetimes?)\n",
    "    # alternately just write this info to files in a outer function \n",
    "\n",
    "    compile()\n",
    "    train_on_batch(bs=variable)\n",
    "    predict()\n",
    "    score()\n",
    "    "
   ]
  },
  {
   "cell_type": "code",
   "execution_count": null,
   "metadata": {},
   "outputs": [],
   "source": []
  }
 ],
 "metadata": {
  "kernelspec": {
   "display_name": "Python 3",
   "language": "python",
   "name": "python3"
  },
  "language_info": {
   "codemirror_mode": {
    "name": "ipython",
    "version": 3
   },
   "file_extension": ".py",
   "mimetype": "text/x-python",
   "name": "python",
   "nbconvert_exporter": "python",
   "pygments_lexer": "ipython3",
   "version": "3.7.6"
  }
 },
 "nbformat": 4,
 "nbformat_minor": 4
}
